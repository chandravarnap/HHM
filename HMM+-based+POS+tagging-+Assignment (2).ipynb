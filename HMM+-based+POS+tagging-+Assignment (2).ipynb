{
 "cells": [
  {
   "cell_type": "markdown",
   "metadata": {},
   "source": [
    "## POS tagging using modified Viterbi"
   ]
  },
  {
   "cell_type": "markdown",
   "metadata": {},
   "source": [
    "### Data Preparation"
   ]
  },
  {
   "cell_type": "code",
   "execution_count": 48,
   "metadata": {},
   "outputs": [
    {
     "name": "stderr",
     "output_type": "stream",
     "text": [
      "[nltk_data] Downloading package universal_tagset to\n",
      "[nltk_data]     C:\\Users\\DELL\\AppData\\Roaming\\nltk_data...\n",
      "[nltk_data]   Package universal_tagset is already up-to-date!\n",
      "[nltk_data] Downloading package punkt to\n",
      "[nltk_data]     C:\\Users\\DELL\\AppData\\Roaming\\nltk_data...\n",
      "[nltk_data]   Unzipping tokenizers\\punkt.zip.\n"
     ]
    }
   ],
   "source": [
    "#Importing libraries\n",
    "import nltk, re, pprint\n",
    "nltk.download('universal_tagset')\n",
    "nltk.download('punkt')\n",
    "import numpy as np\n",
    "import pandas as pd\n",
    "import requests\n",
    "import matplotlib.pyplot as plt\n",
    "import seaborn as sns\n",
    "import pprint, time\n",
    "import random\n",
    "from sklearn.model_selection import train_test_split\n",
    "from nltk.tokenize import word_tokenize"
   ]
  },
  {
   "cell_type": "code",
   "execution_count": null,
   "metadata": {},
   "outputs": [],
   "source": []
  },
  {
   "cell_type": "code",
   "execution_count": null,
   "metadata": {},
   "outputs": [],
   "source": []
  },
  {
   "cell_type": "code",
   "execution_count": 6,
   "metadata": {},
   "outputs": [
    {
     "name": "stderr",
     "output_type": "stream",
     "text": [
      "[nltk_data] Downloading package treebank to\n",
      "[nltk_data]     C:\\Users\\DELL\\AppData\\Roaming\\nltk_data...\n",
      "[nltk_data]   Package treebank is already up-to-date!\n"
     ]
    }
   ],
   "source": []
  },
  {
   "cell_type": "code",
   "execution_count": 10,
   "metadata": {},
   "outputs": [
    {
     "name": "stdout",
     "output_type": "stream",
     "text": [
      "[[('Pierre', 'NNP'), ('Vinken', 'NNP'), (',', ','), ('61', 'CD'), ('years', 'NNS'), ('old', 'JJ'), (',', ','), ('will', 'MD'), ('join', 'VB'), ('the', 'DT'), ('board', 'NN'), ('as', 'IN'), ('a', 'DT'), ('nonexecutive', 'JJ'), ('director', 'NN'), ('Nov.', 'NNP'), ('29', 'CD'), ('.', '.')], [('Mr.', 'NNP'), ('Vinken', 'NNP'), ('is', 'VBZ'), ('chairman', 'NN'), ('of', 'IN'), ('Elsevier', 'NNP'), ('N.V.', 'NNP'), (',', ','), ('the', 'DT'), ('Dutch', 'NNP'), ('publishing', 'VBG'), ('group', 'NN'), ('.', '.')], [('Rudolph', 'NNP'), ('Agnew', 'NNP'), (',', ','), ('55', 'CD'), ('years', 'NNS'), ('old', 'JJ'), ('and', 'CC'), ('former', 'JJ'), ('chairman', 'NN'), ('of', 'IN'), ('Consolidated', 'NNP'), ('Gold', 'NNP'), ('Fields', 'NNP'), ('PLC', 'NNP'), (',', ','), ('was', 'VBD'), ('named', 'VBN'), ('*-1', '-NONE-'), ('a', 'DT'), ('nonexecutive', 'JJ'), ('director', 'NN'), ('of', 'IN'), ('this', 'DT'), ('British', 'JJ'), ('industrial', 'JJ'), ('conglomerate', 'NN'), ('.', '.')], [('A', 'DT'), ('form', 'NN'), ('of', 'IN'), ('asbestos', 'NN'), ('once', 'RB'), ('used', 'VBN'), ('*', '-NONE-'), ('*', '-NONE-'), ('to', 'TO'), ('make', 'VB'), ('Kent', 'NNP'), ('cigarette', 'NN'), ('filters', 'NNS'), ('has', 'VBZ'), ('caused', 'VBN'), ('a', 'DT'), ('high', 'JJ'), ('percentage', 'NN'), ('of', 'IN'), ('cancer', 'NN'), ('deaths', 'NNS'), ('among', 'IN'), ('a', 'DT'), ('group', 'NN'), ('of', 'IN'), ('workers', 'NNS'), ('exposed', 'VBN'), ('*', '-NONE-'), ('to', 'TO'), ('it', 'PRP'), ('more', 'RBR'), ('than', 'IN'), ('30', 'CD'), ('years', 'NNS'), ('ago', 'IN'), (',', ','), ('researchers', 'NNS'), ('reported', 'VBD'), ('0', '-NONE-'), ('*T*-1', '-NONE-'), ('.', '.')], [('The', 'DT'), ('asbestos', 'NN'), ('fiber', 'NN'), (',', ','), ('crocidolite', 'NN'), (',', ','), ('is', 'VBZ'), ('unusually', 'RB'), ('resilient', 'JJ'), ('once', 'IN'), ('it', 'PRP'), ('enters', 'VBZ'), ('the', 'DT'), ('lungs', 'NNS'), (',', ','), ('with', 'IN'), ('even', 'RB'), ('brief', 'JJ'), ('exposures', 'NNS'), ('to', 'TO'), ('it', 'PRP'), ('causing', 'VBG'), ('symptoms', 'NNS'), ('that', 'WDT'), ('*T*-1', '-NONE-'), ('show', 'VBP'), ('up', 'RP'), ('decades', 'NNS'), ('later', 'JJ'), (',', ','), ('researchers', 'NNS'), ('said', 'VBD'), ('0', '-NONE-'), ('*T*-2', '-NONE-'), ('.', '.')]]\n"
     ]
    }
   ],
   "source": [
    "# first few tagged sentences\n",
    "print(wsj[:5])"
   ]
  },
  {
   "cell_type": "code",
   "execution_count": 11,
   "metadata": {},
   "outputs": [
    {
     "name": "stdout",
     "output_type": "stream",
     "text": [
      "2739\n",
      "1175\n",
      "[[('Such', 'JJ'), ('laws', 'NNS'), ('violate', 'VBP'), ('the', 'DT'), ('provision', 'NN'), ('in', 'IN'), ('Article', 'NNP'), ('II', 'NNP'), ('that', 'WDT'), ('*T*-1', '-NONE-'), ('requires', 'VBZ'), ('the', 'DT'), ('president', 'NN'), ('to', 'TO'), ('make', 'VB'), ('recommendations', 'NNS'), ('to', 'TO'), ('Congress', 'NNP'), (',', ','), ('but', 'CC'), ('which', 'WDT'), ('*T*-41', '-NONE-'), ('gives', 'VBZ'), ('the', 'DT'), ('president', 'NN'), ('the', 'DT'), ('discretion', 'NN'), ('0', '-NONE-'), ('*', '-NONE-'), ('to', 'TO'), ('select', 'VB'), ('the', 'DT'), ('subject', 'JJ'), ('matter', 'NN'), ('of', 'IN'), ('those', 'DT'), ('recommendations', 'NNS'), ('*T*-2', '-NONE-'), ('.', '.')], [('South', 'NNP'), ('African', 'NNP'), ('troops', 'NNS'), ('were', 'VBD'), ('placed', 'VBN'), ('*-1', '-NONE-'), ('on', 'IN'), ('alert', 'NN'), ('.', '.')], [('Last', 'JJ'), ('month', 'NN'), (',', ','), ('Judge', 'NNP'), ('Curry', 'NNP'), ('set', 'VBD'), ('the', 'DT'), ('interest', 'NN'), ('rate', 'NN'), ('on', 'IN'), ('the', 'DT'), ('refund', 'NN'), ('at', 'IN'), ('9', 'CD'), ('%', 'NN'), ('.', '.')], [('Of', 'IN'), ('course', 'NN'), (',', ','), ('regulators', 'NNS'), ('would', 'MD'), ('have', 'VB'), ('*-1', '-NONE-'), ('to', 'TO'), ('approve', 'VB'), ('Columbia', 'NNP'), (\"'s\", 'POS'), ('reorganization', 'NN'), ('.', '.')], [('Retail', 'JJ'), ('sales', 'NNS'), ('also', 'RB'), ('were', 'VBD'), ('reported', 'VBN'), ('*-1', '-NONE-'), ('*-2', '-NONE-'), ('slow', 'RB'), ('in', 'IN'), ('most', 'JJS'), ('districts', 'NNS'), (',', ','), ('particularly', 'RB'), ('``', '``'), ('for', 'IN'), ('discretionary', 'JJ'), (',', ','), ('big-ticket', 'JJ'), ('items', 'NNS'), ('such', 'JJ'), ('as', 'IN'), ('furniture', 'NN'), (',', ','), ('home', 'NN'), ('appliances', 'NNS'), ('and', 'CC'), ('consumer', 'NN'), ('electronics', 'NNS'), ('.', '.'), (\"''\", \"''\")]]\n"
     ]
    }
   ],
   "source": [
    "# Splitting into train and test\n",
    "random.seed(1234)\n",
    "train_set, test_set = train_test_split(wsj,test_size=0.3)\n",
    "\n",
    "print(len(train_set))\n",
    "print(len(test_set))\n",
    "print(train_set[:5])"
   ]
  },
  {
   "cell_type": "code",
   "execution_count": 12,
   "metadata": {},
   "outputs": [
    {
     "data": {
      "text/plain": [
       "70691"
      ]
     },
     "execution_count": 12,
     "metadata": {},
     "output_type": "execute_result"
    }
   ],
   "source": [
    "# Getting list of tagged words\n",
    "train_tagged_words = [tup for sent in train_set for tup in sent]\n",
    "len(train_tagged_words)"
   ]
  },
  {
   "cell_type": "code",
   "execution_count": 13,
   "metadata": {},
   "outputs": [
    {
     "data": {
      "text/plain": [
       "['Such',\n",
       " 'laws',\n",
       " 'violate',\n",
       " 'the',\n",
       " 'provision',\n",
       " 'in',\n",
       " 'Article',\n",
       " 'II',\n",
       " 'that',\n",
       " '*T*-1']"
      ]
     },
     "execution_count": 13,
     "metadata": {},
     "output_type": "execute_result"
    }
   ],
   "source": [
    "# tokens \n",
    "tokens = [pair[0] for pair in train_tagged_words]\n",
    "tokens[:10]"
   ]
  },
  {
   "cell_type": "code",
   "execution_count": 19,
   "metadata": {},
   "outputs": [],
   "source": [
    "# reading the Treebank tagged sentences\n",
    "nltk_data = list(nltk.corpus.treebank.tagged_sents(tagset='universal'))"
   ]
  },
  {
   "cell_type": "code",
   "execution_count": 20,
   "metadata": {},
   "outputs": [
    {
     "name": "stdout",
     "output_type": "stream",
     "text": [
      "[[('Pierre', 'NOUN'), ('Vinken', 'NOUN'), (',', '.'), ('61', 'NUM'), ('years', 'NOUN'), ('old', 'ADJ'), (',', '.'), ('will', 'VERB'), ('join', 'VERB'), ('the', 'DET'), ('board', 'NOUN'), ('as', 'ADP'), ('a', 'DET'), ('nonexecutive', 'ADJ'), ('director', 'NOUN'), ('Nov.', 'NOUN'), ('29', 'NUM'), ('.', '.')], [('Mr.', 'NOUN'), ('Vinken', 'NOUN'), ('is', 'VERB'), ('chairman', 'NOUN'), ('of', 'ADP'), ('Elsevier', 'NOUN'), ('N.V.', 'NOUN'), (',', '.'), ('the', 'DET'), ('Dutch', 'NOUN'), ('publishing', 'VERB'), ('group', 'NOUN'), ('.', '.')], [('Rudolph', 'NOUN'), ('Agnew', 'NOUN'), (',', '.'), ('55', 'NUM'), ('years', 'NOUN'), ('old', 'ADJ'), ('and', 'CONJ'), ('former', 'ADJ'), ('chairman', 'NOUN'), ('of', 'ADP'), ('Consolidated', 'NOUN'), ('Gold', 'NOUN'), ('Fields', 'NOUN'), ('PLC', 'NOUN'), (',', '.'), ('was', 'VERB'), ('named', 'VERB'), ('*-1', 'X'), ('a', 'DET'), ('nonexecutive', 'ADJ'), ('director', 'NOUN'), ('of', 'ADP'), ('this', 'DET'), ('British', 'ADJ'), ('industrial', 'ADJ'), ('conglomerate', 'NOUN'), ('.', '.')], [('A', 'DET'), ('form', 'NOUN'), ('of', 'ADP'), ('asbestos', 'NOUN'), ('once', 'ADV'), ('used', 'VERB'), ('*', 'X'), ('*', 'X'), ('to', 'PRT'), ('make', 'VERB'), ('Kent', 'NOUN'), ('cigarette', 'NOUN'), ('filters', 'NOUN'), ('has', 'VERB'), ('caused', 'VERB'), ('a', 'DET'), ('high', 'ADJ'), ('percentage', 'NOUN'), ('of', 'ADP'), ('cancer', 'NOUN'), ('deaths', 'NOUN'), ('among', 'ADP'), ('a', 'DET'), ('group', 'NOUN'), ('of', 'ADP'), ('workers', 'NOUN'), ('exposed', 'VERB'), ('*', 'X'), ('to', 'PRT'), ('it', 'PRON'), ('more', 'ADV'), ('than', 'ADP'), ('30', 'NUM'), ('years', 'NOUN'), ('ago', 'ADP'), (',', '.'), ('researchers', 'NOUN'), ('reported', 'VERB'), ('0', 'X'), ('*T*-1', 'X'), ('.', '.')], [('The', 'DET'), ('asbestos', 'NOUN'), ('fiber', 'NOUN'), (',', '.'), ('crocidolite', 'NOUN'), (',', '.'), ('is', 'VERB'), ('unusually', 'ADV'), ('resilient', 'ADJ'), ('once', 'ADP'), ('it', 'PRON'), ('enters', 'VERB'), ('the', 'DET'), ('lungs', 'NOUN'), (',', '.'), ('with', 'ADP'), ('even', 'ADV'), ('brief', 'ADJ'), ('exposures', 'NOUN'), ('to', 'PRT'), ('it', 'PRON'), ('causing', 'VERB'), ('symptoms', 'NOUN'), ('that', 'DET'), ('*T*-1', 'X'), ('show', 'VERB'), ('up', 'PRT'), ('decades', 'NOUN'), ('later', 'ADJ'), (',', '.'), ('researchers', 'NOUN'), ('said', 'VERB'), ('0', 'X'), ('*T*-2', 'X'), ('.', '.')], [('Lorillard', 'NOUN'), ('Inc.', 'NOUN'), (',', '.'), ('the', 'DET'), ('unit', 'NOUN'), ('of', 'ADP'), ('New', 'ADJ'), ('York-based', 'ADJ'), ('Loews', 'NOUN'), ('Corp.', 'NOUN'), ('that', 'DET'), ('*T*-2', 'X'), ('makes', 'VERB'), ('Kent', 'NOUN'), ('cigarettes', 'NOUN'), (',', '.'), ('stopped', 'VERB'), ('using', 'VERB'), ('crocidolite', 'NOUN'), ('in', 'ADP'), ('its', 'PRON'), ('Micronite', 'NOUN'), ('cigarette', 'NOUN'), ('filters', 'NOUN'), ('in', 'ADP'), ('1956', 'NUM'), ('.', '.')], [('Although', 'ADP'), ('preliminary', 'ADJ'), ('findings', 'NOUN'), ('were', 'VERB'), ('reported', 'VERB'), ('*-2', 'X'), ('more', 'ADV'), ('than', 'ADP'), ('a', 'DET'), ('year', 'NOUN'), ('ago', 'ADP'), (',', '.'), ('the', 'DET'), ('latest', 'ADJ'), ('results', 'NOUN'), ('appear', 'VERB'), ('in', 'ADP'), ('today', 'NOUN'), (\"'s\", 'PRT'), ('New', 'NOUN'), ('England', 'NOUN'), ('Journal', 'NOUN'), ('of', 'ADP'), ('Medicine', 'NOUN'), (',', '.'), ('a', 'DET'), ('forum', 'NOUN'), ('likely', 'ADJ'), ('*', 'X'), ('to', 'PRT'), ('bring', 'VERB'), ('new', 'ADJ'), ('attention', 'NOUN'), ('to', 'PRT'), ('the', 'DET'), ('problem', 'NOUN'), ('.', '.')], [('A', 'DET'), ('Lorillard', 'NOUN'), ('spokewoman', 'NOUN'), ('said', 'VERB'), (',', '.'), ('``', '.'), ('This', 'DET'), ('is', 'VERB'), ('an', 'DET'), ('old', 'ADJ'), ('story', 'NOUN'), ('.', '.')], [('We', 'PRON'), (\"'re\", 'VERB'), ('talking', 'VERB'), ('about', 'ADP'), ('years', 'NOUN'), ('ago', 'ADP'), ('before', 'ADP'), ('anyone', 'NOUN'), ('heard', 'VERB'), ('of', 'ADP'), ('asbestos', 'NOUN'), ('having', 'VERB'), ('any', 'DET'), ('questionable', 'ADJ'), ('properties', 'NOUN'), ('.', '.')], [('There', 'DET'), ('is', 'VERB'), ('no', 'DET'), ('asbestos', 'NOUN'), ('in', 'ADP'), ('our', 'PRON'), ('products', 'NOUN'), ('now', 'ADV'), ('.', '.'), (\"''\", '.')]]\n"
     ]
    }
   ],
   "source": [
    "# first few tagged sentences\n",
    "print(nltk_data[:10])"
   ]
  },
  {
   "cell_type": "code",
   "execution_count": 21,
   "metadata": {},
   "outputs": [
    {
     "name": "stdout",
     "output_type": "stream",
     "text": [
      "3718\n",
      "196\n",
      "[[('But', 'CONJ'), ('the', 'DET'), ('1989', 'NUM'), ('fall', 'NOUN'), ('total', 'NOUN'), ('of', 'ADP'), ('80', 'NUM'), (',', '.'), ('while', 'ADP'), ('well', 'ADV'), ('below', 'ADP'), ('1988', 'NUM'), ('activity', 'NOUN'), (',', '.'), ('shows', 'VERB'), ('``', '.'), ('a', 'DET'), ('steady', 'ADJ'), ('ratcheting', 'VERB'), ('up', 'ADP'), ('in', 'ADP'), ('citizen', 'NOUN'), ('referenda', 'NOUN'), ('and', 'CONJ'), ('initiatives', 'VERB'), (',', '.'), (\"''\", '.'), ('says', 'VERB'), ('0', 'X'), ('*T*-1', 'X'), ('Patrick', 'NOUN'), ('McGuigan', 'NOUN'), (',', '.'), ('editor', 'NOUN'), ('of', 'ADP'), ('Family', 'NOUN'), (',', '.'), ('Law', 'NOUN'), ('and', 'CONJ'), ('Democracy', 'NOUN'), ('Report', 'NOUN'), ('.', '.')], [('*-2', 'X'), ('Given', 'VERB'), ('*-3', 'X'), ('that', 'DET'), ('choice', 'NOUN'), (',', '.'), ('associates', 'NOUN'), ('of', 'ADP'), ('Mr.', 'NOUN'), ('Hahn', 'NOUN'), ('and', 'CONJ'), ('industry', 'NOUN'), ('observers', 'NOUN'), ('say', 'VERB'), ('0', 'X'), ('the', 'DET'), ('former', 'ADJ'), ('university', 'NOUN'), ('president', 'NOUN'), ('--', '.'), ('who', 'PRON'), ('*T*-1', 'X'), ('has', 'VERB'), ('developed', 'VERB'), ('a', 'DET'), ('reputation', 'NOUN'), ('for', 'ADP'), ('*', 'X'), ('not', 'ADV'), ('overpaying', 'VERB'), ('for', 'ADP'), ('anything', 'NOUN'), ('--', '.'), ('would', 'VERB'), ('fold', 'VERB'), ('.', '.')], [('Saudi', 'NOUN'), ('Arabia', 'NOUN'), (',', '.'), ('for', 'ADP'), ('its', 'PRON'), ('part', 'NOUN'), (',', '.'), ('has', 'VERB'), ('vowed', 'VERB'), ('*-2', 'X'), ('to', 'PRT'), ('enact', 'VERB'), ('a', 'DET'), ('copyright', 'NOUN'), ('law', 'NOUN'), ('compatible', 'ADJ'), ('with', 'ADP'), ('international', 'ADJ'), ('standards', 'NOUN'), ('and', 'CONJ'), ('*-2', 'X'), ('to', 'PRT'), ('apply', 'VERB'), ('the', 'DET'), ('law', 'NOUN'), ('to', 'PRT'), ('computer', 'NOUN'), ('software', 'NOUN'), ('as', 'ADV'), ('well', 'ADV'), ('as', 'ADP'), ('to', 'PRT'), ('literary', 'ADJ'), ('works', 'NOUN'), (',', '.'), ('Mrs.', 'NOUN'), ('Hills', 'NOUN'), ('said', 'VERB'), ('0', 'X'), ('*T*-1', 'X'), ('.', '.')], [('OSHA', 'NOUN'), ('cited', 'VERB'), ('nearly', 'ADV'), ('1,500', 'NUM'), ('alleged', 'VERB'), ('violations', 'NOUN'), ('of', 'ADP'), ('federal', 'ADJ'), ('electrical', 'ADJ'), (',', '.'), ('crane-safety', 'NOUN'), (',', '.'), ('record-keeping', 'NOUN'), ('and', 'CONJ'), ('other', 'ADJ'), ('requirements', 'NOUN'), ('.', '.')], [('For', 'ADP'), ('their', 'PRON'), ('troubles', 'NOUN'), (',', '.'), ('the', 'DET'), ('banks', 'NOUN'), ('get', 'VERB'), ('a', 'DET'), ('larger', 'ADJ'), ('captive', 'NOUN'), ('audience', 'NOUN'), ('that', 'DET'), ('*T*-204', 'X'), ('is', 'VERB'), ('less', 'ADV'), ('likely', 'ADJ'), ('*-1', 'X'), ('to', 'PRT'), ('move', 'VERB'), ('at', 'ADP'), ('the', 'DET'), ('drop', 'NOUN'), ('of', 'ADP'), ('a', 'DET'), ('rate', 'NOUN'), ('.', '.')]]\n"
     ]
    }
   ],
   "source": [
    "\n",
    "# Splitting into train and test\n",
    "random.seed(1234)\n",
    "train_set, test_set = train_test_split(nltk_data,test_size=0.05)\n",
    "\n",
    "print(len(train_set))\n",
    "print(len(test_set))\n",
    "print(train_set[:5])"
   ]
  },
  {
   "cell_type": "code",
   "execution_count": 22,
   "metadata": {},
   "outputs": [
    {
     "data": {
      "text/plain": [
       "95672"
      ]
     },
     "execution_count": 22,
     "metadata": {},
     "output_type": "execute_result"
    }
   ],
   "source": [
    "# Getting list of tagged words\n",
    "train_tagged_words = [tup for sent in train_set for tup in sent]\n",
    "len(train_tagged_words)"
   ]
  },
  {
   "cell_type": "code",
   "execution_count": 23,
   "metadata": {},
   "outputs": [
    {
     "data": {
      "text/plain": [
       "['But', 'the', '1989', 'fall', 'total', 'of', '80', ',', 'while', 'well']"
      ]
     },
     "execution_count": 23,
     "metadata": {},
     "output_type": "execute_result"
    }
   ],
   "source": [
    "\n",
    "# tokens \n",
    "tokens = [pair[0] for pair in train_tagged_words]\n",
    "tokens[:10]"
   ]
  },
  {
   "cell_type": "code",
   "execution_count": null,
   "metadata": {},
   "outputs": [],
   "source": []
  },
  {
   "cell_type": "code",
   "execution_count": 24,
   "metadata": {},
   "outputs": [
    {
     "name": "stdout",
     "output_type": "stream",
     "text": [
      "12079\n"
     ]
    }
   ],
   "source": [
    "# vocabulary\n",
    "V = set(tokens)\n",
    "print(len(V))"
   ]
  },
  {
   "cell_type": "code",
   "execution_count": 27,
   "metadata": {},
   "outputs": [
    {
     "data": {
      "text/plain": [
       "12"
      ]
     },
     "execution_count": 27,
     "metadata": {},
     "output_type": "execute_result"
    }
   ],
   "source": [
    "# number of tags\n",
    "T = set([pair[1] for pair in train_tagged_words])\n",
    "len(T)"
   ]
  },
  {
   "cell_type": "code",
   "execution_count": null,
   "metadata": {},
   "outputs": [],
   "source": []
  },
  {
   "cell_type": "code",
   "execution_count": 28,
   "metadata": {},
   "outputs": [
    {
     "name": "stdout",
     "output_type": "stream",
     "text": [
      "{'ADJ', 'X', 'ADP', 'PRON', 'DET', 'CONJ', '.', 'ADV', 'NOUN', 'VERB', 'PRT', 'NUM'}\n"
     ]
    }
   ],
   "source": [
    "print(T)"
   ]
  },
  {
   "cell_type": "markdown",
   "metadata": {},
   "source": [
    "# POS Tagging Algorithm - HMM"
   ]
  },
  {
   "cell_type": "markdown",
   "metadata": {},
   "source": [
    "# #Emission Probabilities"
   ]
  },
  {
   "cell_type": "code",
   "execution_count": 29,
   "metadata": {},
   "outputs": [],
   "source": [
    "# computing P(w/t) and storing in T x V matrix\n",
    "t = len(T)\n",
    "v = len(V)\n",
    "w_given_t = np.zeros((t, v))"
   ]
  },
  {
   "cell_type": "code",
   "execution_count": 30,
   "metadata": {},
   "outputs": [],
   "source": [
    "# compute word given tag: Emission Probability\n",
    "def word_given_tag(word, tag, train_bag = train_tagged_words):\n",
    "    tag_list = [pair for pair in train_bag if pair[1]==tag]\n",
    "    count_tag = len(tag_list)\n",
    "    w_given_tag_list = [pair[0] for pair in tag_list if pair[0]==word]\n",
    "    count_w_given_tag = len(w_given_tag_list)\n",
    "    \n",
    "    return (count_w_given_tag, count_tag)"
   ]
  },
  {
   "cell_type": "markdown",
   "metadata": {},
   "source": [
    "Transition Probabilities"
   ]
  },
  {
   "cell_type": "code",
   "execution_count": 32,
   "metadata": {},
   "outputs": [],
   "source": [
    "# compute tag given tag: tag2(t2) given tag1 (t1), i.e. Transition Probability\n",
    "\n",
    "def t2_given_t1(t2, t1, train_bag = train_tagged_words):\n",
    "    tags = [pair[1] for pair in train_bag]\n",
    "    count_t1 = len([t for t in tags if t==t1])\n",
    "    count_t2_t1 = 0\n",
    "    for index in range(len(tags)-1):\n",
    "        if tags[index]==t1 and tags[index+1] == t2:\n",
    "            count_t2_t1 += 1\n",
    "    return (count_t2_t1, count_t1)"
   ]
  },
  {
   "cell_type": "code",
   "execution_count": 33,
   "metadata": {},
   "outputs": [],
   "source": [
    "# creating t x t transition matrix of tags\n",
    "# each column is t2, each row is t1\n",
    "# thus M(i, j) represents P(tj given ti)\n",
    "\n",
    "tags_matrix = np.zeros((len(T), len(T)), dtype='float32')\n",
    "for i, t1 in enumerate(list(T)):\n",
    "    for j, t2 in enumerate(list(T)): \n",
    "        tags_matrix[i, j] = t2_given_t1(t2, t1)[0]/t2_given_t1(t2, t1)[1]"
   ]
  },
  {
   "cell_type": "code",
   "execution_count": 34,
   "metadata": {},
   "outputs": [
    {
     "data": {
      "text/plain": [
       "array([[6.60952702e-02, 2.14273948e-02, 7.68089667e-02, 6.59304438e-04,\n",
       "        5.10960957e-03, 1.71419159e-02, 6.39525279e-02, 4.45030490e-03,\n",
       "        7.00675786e-01, 1.23619577e-02, 1.08785229e-02, 2.04384383e-02],\n",
       "       [1.71265453e-02, 7.56422430e-02, 1.42404065e-01, 5.59784323e-02,\n",
       "        5.48683777e-02, 1.01490645e-02, 1.65080875e-01, 2.48969235e-02,\n",
       "        6.21630177e-02, 2.03932762e-01, 1.85220420e-01, 2.53726612e-03],\n",
       "       [1.06867783e-01, 3.43388952e-02, 1.73299108e-02, 6.87847659e-02,\n",
       "        3.24026525e-01, 9.62772814e-04, 3.99015844e-02, 1.35857938e-02,\n",
       "        3.22100997e-01, 7.91613199e-03, 1.49764656e-03, 6.26872033e-02],\n",
       "       [7.27202743e-02, 9.31127369e-02, 2.30858028e-02, 8.08003079e-03,\n",
       "        9.23432130e-03, 4.23239730e-03, 4.11696807e-02, 3.34744118e-02,\n",
       "        2.07772225e-01, 4.86340910e-01, 1.30819548e-02, 7.69526744e-03],\n",
       "       [2.04180256e-01, 4.53062691e-02, 9.30288713e-03, 3.50368489e-03,\n",
       "        5.67838596e-03, 3.62450170e-04, 1.77600589e-02, 1.26857553e-02,\n",
       "        6.39362097e-01, 3.97487022e-02, 2.41633446e-04, 2.18678266e-02],\n",
       "       [1.18003733e-01, 8.86194035e-03, 5.13059683e-02, 6.06343299e-02,\n",
       "        1.17537312e-01, 4.66417900e-04, 3.59141789e-02, 5.41044772e-02,\n",
       "        3.49813432e-01, 1.57182842e-01, 4.66417894e-03, 4.15111929e-02],\n",
       "       [4.38486375e-02, 2.71700136e-02, 8.99390280e-02, 6.63558096e-02,\n",
       "        1.72525108e-01, 5.76578192e-02, 9.47812051e-02, 5.27259670e-02,\n",
       "        2.22919658e-01, 8.87733176e-02, 2.33142031e-03, 8.08823556e-02],\n",
       "       [1.31508678e-01, 2.30307076e-02, 1.19492657e-01, 1.50200268e-02,\n",
       "        6.94259033e-02, 6.34178892e-03, 1.36849135e-01, 7.71028027e-02,\n",
       "        3.27102803e-02, 3.43457937e-01, 1.40186911e-02, 3.10413893e-02],\n",
       "       [1.18800336e-02, 2.92992238e-02, 1.77180126e-01, 4.40946035e-03,\n",
       "        1.32648228e-02, 4.25276048e-02, 2.39568532e-01, 1.69090051e-02,\n",
       "        2.63875216e-01, 1.47224963e-01, 4.43496965e-02, 9.51131526e-03],\n",
       "       [6.54784963e-02, 2.18287483e-01, 9.05075520e-02, 3.51026729e-02,\n",
       "        1.34444013e-01, 5.50174341e-03, 3.54126319e-02, 8.15962777e-02,\n",
       "        1.10964745e-01, 1.68926775e-01, 3.12282071e-02, 2.25494001e-02],\n",
       "       [8.54728669e-02, 1.33246668e-02, 2.07994804e-02, 1.78745538e-02,\n",
       "        9.94475111e-02, 2.27494305e-03, 4.25739363e-02, 1.03997402e-02,\n",
       "        2.46018857e-01, 4.03314918e-01, 1.94995129e-03, 5.65485880e-02],\n",
       "       [3.27380970e-02, 2.10714281e-01, 3.57142873e-02, 1.48809527e-03,\n",
       "        3.27380956e-03, 1.30952382e-02, 1.16071425e-01, 2.67857150e-03,\n",
       "        3.54464293e-01, 1.78571437e-02, 2.64880955e-02, 1.85416669e-01]],\n",
       "      dtype=float32)"
      ]
     },
     "execution_count": 34,
     "metadata": {},
     "output_type": "execute_result"
    }
   ],
   "source": [
    "tags_matrix"
   ]
  },
  {
   "cell_type": "code",
   "execution_count": 35,
   "metadata": {},
   "outputs": [],
   "source": [
    "# convert the matrix to a df for better readability\n",
    "tags_df = pd.DataFrame(tags_matrix, columns = list(T), index=list(T))"
   ]
  },
  {
   "cell_type": "code",
   "execution_count": 36,
   "metadata": {},
   "outputs": [
    {
     "data": {
      "text/html": [
       "<div>\n",
       "<style scoped>\n",
       "    .dataframe tbody tr th:only-of-type {\n",
       "        vertical-align: middle;\n",
       "    }\n",
       "\n",
       "    .dataframe tbody tr th {\n",
       "        vertical-align: top;\n",
       "    }\n",
       "\n",
       "    .dataframe thead th {\n",
       "        text-align: right;\n",
       "    }\n",
       "</style>\n",
       "<table border=\"1\" class=\"dataframe\">\n",
       "  <thead>\n",
       "    <tr style=\"text-align: right;\">\n",
       "      <th></th>\n",
       "      <th>ADJ</th>\n",
       "      <th>X</th>\n",
       "      <th>ADP</th>\n",
       "      <th>PRON</th>\n",
       "      <th>DET</th>\n",
       "      <th>CONJ</th>\n",
       "      <th>.</th>\n",
       "      <th>ADV</th>\n",
       "      <th>NOUN</th>\n",
       "      <th>VERB</th>\n",
       "      <th>PRT</th>\n",
       "      <th>NUM</th>\n",
       "    </tr>\n",
       "  </thead>\n",
       "  <tbody>\n",
       "    <tr>\n",
       "      <th>ADJ</th>\n",
       "      <td>0.066095</td>\n",
       "      <td>0.021427</td>\n",
       "      <td>0.076809</td>\n",
       "      <td>0.000659</td>\n",
       "      <td>0.005110</td>\n",
       "      <td>0.017142</td>\n",
       "      <td>0.063953</td>\n",
       "      <td>0.004450</td>\n",
       "      <td>0.700676</td>\n",
       "      <td>0.012362</td>\n",
       "      <td>0.010879</td>\n",
       "      <td>0.020438</td>\n",
       "    </tr>\n",
       "    <tr>\n",
       "      <th>X</th>\n",
       "      <td>0.017127</td>\n",
       "      <td>0.075642</td>\n",
       "      <td>0.142404</td>\n",
       "      <td>0.055978</td>\n",
       "      <td>0.054868</td>\n",
       "      <td>0.010149</td>\n",
       "      <td>0.165081</td>\n",
       "      <td>0.024897</td>\n",
       "      <td>0.062163</td>\n",
       "      <td>0.203933</td>\n",
       "      <td>0.185220</td>\n",
       "      <td>0.002537</td>\n",
       "    </tr>\n",
       "    <tr>\n",
       "      <th>ADP</th>\n",
       "      <td>0.106868</td>\n",
       "      <td>0.034339</td>\n",
       "      <td>0.017330</td>\n",
       "      <td>0.068785</td>\n",
       "      <td>0.324027</td>\n",
       "      <td>0.000963</td>\n",
       "      <td>0.039902</td>\n",
       "      <td>0.013586</td>\n",
       "      <td>0.322101</td>\n",
       "      <td>0.007916</td>\n",
       "      <td>0.001498</td>\n",
       "      <td>0.062687</td>\n",
       "    </tr>\n",
       "    <tr>\n",
       "      <th>PRON</th>\n",
       "      <td>0.072720</td>\n",
       "      <td>0.093113</td>\n",
       "      <td>0.023086</td>\n",
       "      <td>0.008080</td>\n",
       "      <td>0.009234</td>\n",
       "      <td>0.004232</td>\n",
       "      <td>0.041170</td>\n",
       "      <td>0.033474</td>\n",
       "      <td>0.207772</td>\n",
       "      <td>0.486341</td>\n",
       "      <td>0.013082</td>\n",
       "      <td>0.007695</td>\n",
       "    </tr>\n",
       "    <tr>\n",
       "      <th>DET</th>\n",
       "      <td>0.204180</td>\n",
       "      <td>0.045306</td>\n",
       "      <td>0.009303</td>\n",
       "      <td>0.003504</td>\n",
       "      <td>0.005678</td>\n",
       "      <td>0.000362</td>\n",
       "      <td>0.017760</td>\n",
       "      <td>0.012686</td>\n",
       "      <td>0.639362</td>\n",
       "      <td>0.039749</td>\n",
       "      <td>0.000242</td>\n",
       "      <td>0.021868</td>\n",
       "    </tr>\n",
       "    <tr>\n",
       "      <th>CONJ</th>\n",
       "      <td>0.118004</td>\n",
       "      <td>0.008862</td>\n",
       "      <td>0.051306</td>\n",
       "      <td>0.060634</td>\n",
       "      <td>0.117537</td>\n",
       "      <td>0.000466</td>\n",
       "      <td>0.035914</td>\n",
       "      <td>0.054104</td>\n",
       "      <td>0.349813</td>\n",
       "      <td>0.157183</td>\n",
       "      <td>0.004664</td>\n",
       "      <td>0.041511</td>\n",
       "    </tr>\n",
       "    <tr>\n",
       "      <th>.</th>\n",
       "      <td>0.043849</td>\n",
       "      <td>0.027170</td>\n",
       "      <td>0.089939</td>\n",
       "      <td>0.066356</td>\n",
       "      <td>0.172525</td>\n",
       "      <td>0.057658</td>\n",
       "      <td>0.094781</td>\n",
       "      <td>0.052726</td>\n",
       "      <td>0.222920</td>\n",
       "      <td>0.088773</td>\n",
       "      <td>0.002331</td>\n",
       "      <td>0.080882</td>\n",
       "    </tr>\n",
       "    <tr>\n",
       "      <th>ADV</th>\n",
       "      <td>0.131509</td>\n",
       "      <td>0.023031</td>\n",
       "      <td>0.119493</td>\n",
       "      <td>0.015020</td>\n",
       "      <td>0.069426</td>\n",
       "      <td>0.006342</td>\n",
       "      <td>0.136849</td>\n",
       "      <td>0.077103</td>\n",
       "      <td>0.032710</td>\n",
       "      <td>0.343458</td>\n",
       "      <td>0.014019</td>\n",
       "      <td>0.031041</td>\n",
       "    </tr>\n",
       "    <tr>\n",
       "      <th>NOUN</th>\n",
       "      <td>0.011880</td>\n",
       "      <td>0.029299</td>\n",
       "      <td>0.177180</td>\n",
       "      <td>0.004409</td>\n",
       "      <td>0.013265</td>\n",
       "      <td>0.042528</td>\n",
       "      <td>0.239569</td>\n",
       "      <td>0.016909</td>\n",
       "      <td>0.263875</td>\n",
       "      <td>0.147225</td>\n",
       "      <td>0.044350</td>\n",
       "      <td>0.009511</td>\n",
       "    </tr>\n",
       "    <tr>\n",
       "      <th>VERB</th>\n",
       "      <td>0.065478</td>\n",
       "      <td>0.218287</td>\n",
       "      <td>0.090508</td>\n",
       "      <td>0.035103</td>\n",
       "      <td>0.134444</td>\n",
       "      <td>0.005502</td>\n",
       "      <td>0.035413</td>\n",
       "      <td>0.081596</td>\n",
       "      <td>0.110965</td>\n",
       "      <td>0.168927</td>\n",
       "      <td>0.031228</td>\n",
       "      <td>0.022549</td>\n",
       "    </tr>\n",
       "    <tr>\n",
       "      <th>PRT</th>\n",
       "      <td>0.085473</td>\n",
       "      <td>0.013325</td>\n",
       "      <td>0.020799</td>\n",
       "      <td>0.017875</td>\n",
       "      <td>0.099448</td>\n",
       "      <td>0.002275</td>\n",
       "      <td>0.042574</td>\n",
       "      <td>0.010400</td>\n",
       "      <td>0.246019</td>\n",
       "      <td>0.403315</td>\n",
       "      <td>0.001950</td>\n",
       "      <td>0.056549</td>\n",
       "    </tr>\n",
       "    <tr>\n",
       "      <th>NUM</th>\n",
       "      <td>0.032738</td>\n",
       "      <td>0.210714</td>\n",
       "      <td>0.035714</td>\n",
       "      <td>0.001488</td>\n",
       "      <td>0.003274</td>\n",
       "      <td>0.013095</td>\n",
       "      <td>0.116071</td>\n",
       "      <td>0.002679</td>\n",
       "      <td>0.354464</td>\n",
       "      <td>0.017857</td>\n",
       "      <td>0.026488</td>\n",
       "      <td>0.185417</td>\n",
       "    </tr>\n",
       "  </tbody>\n",
       "</table>\n",
       "</div>"
      ],
      "text/plain": [
       "           ADJ         X       ADP      PRON       DET      CONJ         .  \\\n",
       "ADJ   0.066095  0.021427  0.076809  0.000659  0.005110  0.017142  0.063953   \n",
       "X     0.017127  0.075642  0.142404  0.055978  0.054868  0.010149  0.165081   \n",
       "ADP   0.106868  0.034339  0.017330  0.068785  0.324027  0.000963  0.039902   \n",
       "PRON  0.072720  0.093113  0.023086  0.008080  0.009234  0.004232  0.041170   \n",
       "DET   0.204180  0.045306  0.009303  0.003504  0.005678  0.000362  0.017760   \n",
       "CONJ  0.118004  0.008862  0.051306  0.060634  0.117537  0.000466  0.035914   \n",
       ".     0.043849  0.027170  0.089939  0.066356  0.172525  0.057658  0.094781   \n",
       "ADV   0.131509  0.023031  0.119493  0.015020  0.069426  0.006342  0.136849   \n",
       "NOUN  0.011880  0.029299  0.177180  0.004409  0.013265  0.042528  0.239569   \n",
       "VERB  0.065478  0.218287  0.090508  0.035103  0.134444  0.005502  0.035413   \n",
       "PRT   0.085473  0.013325  0.020799  0.017875  0.099448  0.002275  0.042574   \n",
       "NUM   0.032738  0.210714  0.035714  0.001488  0.003274  0.013095  0.116071   \n",
       "\n",
       "           ADV      NOUN      VERB       PRT       NUM  \n",
       "ADJ   0.004450  0.700676  0.012362  0.010879  0.020438  \n",
       "X     0.024897  0.062163  0.203933  0.185220  0.002537  \n",
       "ADP   0.013586  0.322101  0.007916  0.001498  0.062687  \n",
       "PRON  0.033474  0.207772  0.486341  0.013082  0.007695  \n",
       "DET   0.012686  0.639362  0.039749  0.000242  0.021868  \n",
       "CONJ  0.054104  0.349813  0.157183  0.004664  0.041511  \n",
       ".     0.052726  0.222920  0.088773  0.002331  0.080882  \n",
       "ADV   0.077103  0.032710  0.343458  0.014019  0.031041  \n",
       "NOUN  0.016909  0.263875  0.147225  0.044350  0.009511  \n",
       "VERB  0.081596  0.110965  0.168927  0.031228  0.022549  \n",
       "PRT   0.010400  0.246019  0.403315  0.001950  0.056549  \n",
       "NUM   0.002679  0.354464  0.017857  0.026488  0.185417  "
      ]
     },
     "execution_count": 36,
     "metadata": {},
     "output_type": "execute_result"
    }
   ],
   "source": [
    "tags_df"
   ]
  },
  {
   "cell_type": "code",
   "execution_count": 37,
   "metadata": {},
   "outputs": [
    {
     "data": {
      "text/plain": [
       "ADJ     0.043849\n",
       "X       0.027170\n",
       "ADP     0.089939\n",
       "PRON    0.066356\n",
       "DET     0.172525\n",
       "CONJ    0.057658\n",
       ".       0.094781\n",
       "ADV     0.052726\n",
       "NOUN    0.222920\n",
       "VERB    0.088773\n",
       "PRT     0.002331\n",
       "NUM     0.080882\n",
       "Name: ., dtype: float32"
      ]
     },
     "execution_count": 37,
     "metadata": {},
     "output_type": "execute_result"
    }
   ],
   "source": [
    "tags_df.loc['.', :]"
   ]
  },
  {
   "cell_type": "code",
   "execution_count": 38,
   "metadata": {},
   "outputs": [
    {
     "data": {
      "image/png": "[encoded data removed]",
      "text/plain": [
       "<Figure size 1296x864 with 2 Axes>"
      ]
     },
     "metadata": {
      "needs_background": "light"
     },
     "output_type": "display_data"
    }
   ],
   "source": [
    "# heatmap of tags matrix\n",
    "# T(i, j) means P(tag j given tag i)\n",
    "plt.figure(figsize=(18, 12))\n",
    "sns.heatmap(tags_df)\n",
    "plt.show()"
   ]
  },
  {
   "cell_type": "code",
   "execution_count": 39,
   "metadata": {},
   "outputs": [
    {
     "data": {
      "image/png": "[encoded data removed]",
      "text/plain": [
       "<Figure size 1296x864 with 2 Axes>"
      ]
     },
     "metadata": {
      "needs_background": "light"
     },
     "output_type": "display_data"
    }
   ],
   "source": [
    "# frequent tags\n",
    "# filter the df to get P(t2, t1) > 0.5\n",
    "tags_frequent = tags_df[tags_df>0.5]\n",
    "plt.figure(figsize=(18, 12))\n",
    "sns.heatmap(tags_frequent)\n",
    "plt.show()"
   ]
  },
  {
   "cell_type": "code",
   "execution_count": 40,
   "metadata": {},
   "outputs": [
    {
     "data": {
      "text/plain": [
       "95672"
      ]
     },
     "execution_count": 40,
     "metadata": {},
     "output_type": "execute_result"
    }
   ],
   "source": [
    "\n",
    "len(train_tagged_words)"
   ]
  },
  {
   "cell_type": "markdown",
   "metadata": {},
   "source": [
    "### Build the vanilla Viterbi based POS tagger"
   ]
  },
  {
   "cell_type": "code",
   "execution_count": 41,
   "metadata": {},
   "outputs": [],
   "source": [
    "# Viterbi Heuristic\n",
    "def Viterbi(words, train_bag = train_tagged_words):\n",
    "    state = []\n",
    "    T = list(set([pair[1] for pair in train_bag]))\n",
    "    \n",
    "    for key, word in enumerate(words):\n",
    "        #initialise list of probability column for a given observation\n",
    "        p = [] \n",
    "        for tag in T:\n",
    "            if key == 0:\n",
    "                transition_p = tags_df.loc['.', tag]\n",
    "            else:\n",
    "                transition_p = tags_df.loc[state[-1], tag]\n",
    "                \n",
    "            # compute emission and state probabilities\n",
    "            emission_p = word_given_tag(words[key], tag)[0]/word_given_tag(words[key], tag)[1]\n",
    "            state_probability = emission_p * transition_p    \n",
    "            p.append(state_probability)\n",
    "            \n",
    "        pmax = max(p)\n",
    "        # getting state for which probability is maximum\n",
    "        state_max = T[p.index(pmax)] \n",
    "        state.append(state_max)\n",
    "    return list(zip(words, state))"
   ]
  },
  {
   "cell_type": "code",
   "execution_count": 42,
   "metadata": {},
   "outputs": [
    {
     "data": {
      "text/plain": [
       "[[('As', 'ADP'),\n",
       "  ('a', 'DET'),\n",
       "  ('part', 'NOUN'),\n",
       "  ('of', 'ADP'),\n",
       "  ('overall', 'ADJ'),\n",
       "  ('efforts', 'NOUN'),\n",
       "  ('*', 'X'),\n",
       "  ('to', 'PRT'),\n",
       "  ('reduce', 'VERB'),\n",
       "  ('spending', 'NOUN'),\n",
       "  (',', '.'),\n",
       "  ('Congress', 'NOUN'),\n",
       "  ('cut', 'VERB'),\n",
       "  ('by', 'ADP'),\n",
       "  ('$', '.'),\n",
       "  ('30', 'NUM'),\n",
       "  ('million', 'NUM'),\n",
       "  ('*U*', 'X'),\n",
       "  ('the', 'DET'),\n",
       "  ('Bush', 'NOUN'),\n",
       "  ('administration', 'NOUN'),\n",
       "  (\"'s\", 'PRT'),\n",
       "  ('request', 'NOUN'),\n",
       "  ('for', 'ADP'),\n",
       "  ('antitrust', 'ADJ'),\n",
       "  ('enforcement', 'NOUN'),\n",
       "  ('for', 'ADP'),\n",
       "  ('fiscal', 'ADJ'),\n",
       "  ('1990', 'NUM'),\n",
       "  (',', '.'),\n",
       "  ('which', 'DET'),\n",
       "  ('*T*-81', 'X'),\n",
       "  ('began', 'VERB'),\n",
       "  ('Oct.', 'NOUN'),\n",
       "  ('1', 'NUM'),\n",
       "  ('.', '.')],\n",
       " [('Meanwhile', 'ADV'),\n",
       "  (',', '.'),\n",
       "  ('the', 'DET'),\n",
       "  ('National', 'NOUN'),\n",
       "  ('Association', 'NOUN'),\n",
       "  ('of', 'ADP'),\n",
       "  ('Purchasing', 'NOUN'),\n",
       "  ('Management', 'NOUN'),\n",
       "  ('said', 'VERB'),\n",
       "  ('0', 'X'),\n",
       "  ('its', 'PRON'),\n",
       "  ('latest', 'ADJ'),\n",
       "  ('survey', 'NOUN'),\n",
       "  ('indicated', 'VERB'),\n",
       "  ('that', 'ADP'),\n",
       "  ('the', 'DET'),\n",
       "  ('manufacturing', 'NOUN'),\n",
       "  ('economy', 'NOUN'),\n",
       "  ('contracted', 'VERB'),\n",
       "  ('in', 'ADP'),\n",
       "  ('October', 'NOUN'),\n",
       "  ('for', 'ADP'),\n",
       "  ('the', 'DET'),\n",
       "  ('sixth', 'ADJ'),\n",
       "  ('consecutive', 'ADJ'),\n",
       "  ('month', 'NOUN'),\n",
       "  ('.', '.')],\n",
       " [('Jamaica', 'NOUN'),\n",
       "  (',', '.'),\n",
       "  ('wary', 'ADJ'),\n",
       "  ('of', 'ADP'),\n",
       "  ('*', 'X'),\n",
       "  ('upsetting', 'VERB'),\n",
       "  ('its', 'PRON'),\n",
       "  ('Caribbean', 'NOUN'),\n",
       "  ('Basin', 'NOUN'),\n",
       "  ('allies', 'NOUN'),\n",
       "  (',', '.'),\n",
       "  ('has', 'VERB'),\n",
       "  ('apparently', 'ADV'),\n",
       "  ('instructed', 'VERB'),\n",
       "  ('its', 'PRON'),\n",
       "  ('lobbyist', 'NOUN'),\n",
       "  ('*-2', 'X'),\n",
       "  ('to', 'PRT'),\n",
       "  ('abandon', 'VERB'),\n",
       "  ('the', 'DET'),\n",
       "  ('provision', 'NOUN'),\n",
       "  ('initially', 'ADV'),\n",
       "  ('drafted', 'VERB'),\n",
       "  ('*', 'X'),\n",
       "  ('by', 'ADP'),\n",
       "  ('Mr.', 'NOUN'),\n",
       "  ('Gray', 'NOUN'),\n",
       "  (',', '.'),\n",
       "  ('but', 'CONJ'),\n",
       "  ('the', 'DET'),\n",
       "  ('greater', 'ADJ'),\n",
       "  ('question', 'NOUN'),\n",
       "  ('is', 'VERB'),\n",
       "  ('whether', 'ADP'),\n",
       "  ('Mr.', 'NOUN'),\n",
       "  ('Inouye', 'NOUN'),\n",
       "  (',', '.'),\n",
       "  ('who', 'PRON'),\n",
       "  ('*T*-10', 'X'),\n",
       "  ('has', 'VERB'),\n",
       "  ('strong', 'ADJ'),\n",
       "  ('ties', 'NOUN'),\n",
       "  ('to', 'PRT'),\n",
       "  ('the', 'DET'),\n",
       "  ('sugar', 'NOUN'),\n",
       "  ('industry', 'NOUN'),\n",
       "  (',', '.'),\n",
       "  ('is', 'VERB'),\n",
       "  ('able', 'ADJ'),\n",
       "  ('*-3', 'X'),\n",
       "  ('to', 'PRT'),\n",
       "  ('insert', 'VERB'),\n",
       "  ('a', 'DET'),\n",
       "  ('claim', 'NOUN'),\n",
       "  ('by', 'ADP'),\n",
       "  ('the', 'DET'),\n",
       "  ('Philippines', 'NOUN'),\n",
       "  ('.', '.')],\n",
       " [('The', 'DET'),\n",
       "  ('potential', 'ADJ'),\n",
       "  ('sales', 'NOUN'),\n",
       "  ('are', 'VERB'),\n",
       "  ('nearly', 'ADV'),\n",
       "  ('$', '.'),\n",
       "  ('9.3', 'NUM'),\n",
       "  ('million', 'NUM'),\n",
       "  ('*U*', 'X'),\n",
       "  (',', '.'),\n",
       "  ('and', 'CONJ'),\n",
       "  ('House', 'NOUN'),\n",
       "  ('Majority', 'NOUN'),\n",
       "  ('Whip', 'NOUN'),\n",
       "  ('William', 'NOUN'),\n",
       "  ('Gray', 'NOUN'),\n",
       "  ('-LRB-', '.'),\n",
       "  ('D.', 'NOUN'),\n",
       "  (',', '.'),\n",
       "  ('Pa', 'NOUN'),\n",
       "  ('.', '.'),\n",
       "  ('-RRB-', '.'),\n",
       "  ('began', 'VERB'),\n",
       "  ('the', 'DET'),\n",
       "  ('bidding', 'NOUN'),\n",
       "  ('this', 'DET'),\n",
       "  ('year', 'NOUN'),\n",
       "  ('by', 'ADP'),\n",
       "  ('*-1', 'X'),\n",
       "  ('proposing', 'VERB'),\n",
       "  ('language', 'NOUN'),\n",
       "  ('that', 'ADP'),\n",
       "  ('the', 'DET'),\n",
       "  ('quota', 'NOUN'),\n",
       "  ('be', 'VERB'),\n",
       "  ('allocated', 'VERB'),\n",
       "  ('*-10', 'X'),\n",
       "  ('to', 'PRT'),\n",
       "  ('English-speaking', 'ADJ'),\n",
       "  ('countries', 'NOUN'),\n",
       "  ('of', 'ADP'),\n",
       "  ('the', 'DET'),\n",
       "  ('Caribbean', 'NOUN'),\n",
       "  (',', '.'),\n",
       "  ('such', 'ADJ'),\n",
       "  ('as', 'ADP'),\n",
       "  ('Jamaica', 'NOUN'),\n",
       "  ('and', 'CONJ'),\n",
       "  ('Barbados', 'NOUN'),\n",
       "  ('.', '.')],\n",
       " [('The', 'DET'),\n",
       "  ('percentage', 'NOUN'),\n",
       "  ('change', 'NOUN'),\n",
       "  ('is', 'VERB'),\n",
       "  ('since', 'ADP'),\n",
       "  ('year-end', 'NOUN'),\n",
       "  ('.', '.')]]"
      ]
     },
     "execution_count": 42,
     "metadata": {},
     "output_type": "execute_result"
    }
   ],
   "source": [
    "# Running on entire test dataset would take more than 3-4hrs. \n",
    "# Let's test our Viterbi algorithm on a few sample sentences of test dataset\n",
    "\n",
    "random.seed(1234)\n",
    "\n",
    "# choose random 5 sents\n",
    "rndom = [random.randint(1,len(test_set)) for x in range(5)]\n",
    "\n",
    "# list of sents\n",
    "test_run = [test_set[i] for i in rndom]\n",
    "\n",
    "# list of tagged words\n",
    "test_run_base = [tup for sent in test_run for tup in sent]\n",
    "\n",
    "# list of untagged words\n",
    "test_tagged_words = [tup[0] for sent in test_run for tup in sent]\n",
    "test_run"
   ]
  },
  {
   "cell_type": "code",
   "execution_count": 43,
   "metadata": {},
   "outputs": [],
   "source": [
    "\n",
    "# tagging the test sentences\n",
    "start = time.time()\n",
    "tagged_seq = Viterbi(test_tagged_words)\n",
    "end = time.time()\n",
    "difference = end-start"
   ]
  },
  {
   "cell_type": "code",
   "execution_count": 44,
   "metadata": {},
   "outputs": [
    {
     "name": "stdout",
     "output_type": "stream",
     "text": [
      "Time taken in seconds:  31.537096977233887\n",
      "[('As', 'ADP'), ('a', 'DET'), ('part', 'NOUN'), ('of', 'ADP'), ('overall', 'ADJ'), ('efforts', 'NOUN'), ('*', 'X'), ('to', 'PRT'), ('reduce', 'VERB'), ('spending', 'NOUN'), (',', '.'), ('Congress', 'NOUN'), ('cut', 'VERB'), ('by', 'ADP'), ('$', '.'), ('30', 'NUM'), ('million', 'NUM'), ('*U*', 'X'), ('the', 'DET'), ('Bush', 'NOUN'), ('administration', 'NOUN'), (\"'s\", 'PRT'), ('request', 'NOUN'), ('for', 'ADP'), ('antitrust', 'ADJ'), ('enforcement', 'NOUN'), ('for', 'ADP'), ('fiscal', 'ADJ'), ('1990', 'NUM'), (',', '.'), ('which', 'DET'), ('*T*-81', 'ADJ'), ('began', 'VERB'), ('Oct.', 'NOUN'), ('1', 'NUM'), ('.', '.'), ('Meanwhile', 'ADV'), (',', '.'), ('the', 'DET'), ('National', 'NOUN'), ('Association', 'NOUN'), ('of', 'ADP'), ('Purchasing', 'NOUN'), ('Management', 'NOUN'), ('said', 'VERB'), ('0', 'X'), ('its', 'PRON'), ('latest', 'ADJ'), ('survey', 'NOUN'), ('indicated', 'VERB'), ('that', 'ADP'), ('the', 'DET'), ('manufacturing', 'NOUN'), ('economy', 'NOUN'), ('contracted', 'VERB'), ('in', 'ADP'), ('October', 'NOUN'), ('for', 'ADP'), ('the', 'DET'), ('sixth', 'ADJ'), ('consecutive', 'ADJ'), ('month', 'NOUN'), ('.', '.'), ('Jamaica', 'NOUN'), (',', '.'), ('wary', 'ADJ'), ('of', 'ADP'), ('*', 'X'), ('upsetting', 'ADJ'), ('its', 'PRON'), ('Caribbean', 'ADJ'), ('Basin', 'ADJ'), ('allies', 'ADJ'), (',', '.'), ('has', 'VERB'), ('apparently', 'ADV'), ('instructed', 'ADJ'), ('its', 'PRON'), ('lobbyist', 'ADJ'), ('*-2', 'X'), ('to', 'PRT'), ('abandon', 'VERB'), ('the', 'DET'), ('provision', 'NOUN'), ('initially', 'ADV'), ('drafted', 'ADJ'), ('*', 'X'), ('by', 'ADP'), ('Mr.', 'NOUN'), ('Gray', 'NOUN'), (',', '.'), ('but', 'CONJ'), ('the', 'DET'), ('greater', 'ADJ'), ('question', 'NOUN'), ('is', 'VERB'), ('whether', 'ADP'), ('Mr.', 'NOUN'), ('Inouye', 'ADJ'), (',', '.'), ('who', 'PRON'), ('*T*-10', 'X'), ('has', 'VERB'), ('strong', 'ADJ'), ('ties', 'NOUN'), ('to', 'PRT'), ('the', 'DET'), ('sugar', 'NOUN'), ('industry', 'NOUN'), (',', '.'), ('is', 'VERB'), ('able', 'ADJ'), ('*-3', 'X'), ('to', 'PRT'), ('insert', 'ADJ'), ('a', 'DET'), ('claim', 'NOUN'), ('by', 'ADP'), ('the', 'DET'), ('Philippines', 'NOUN'), ('.', '.'), ('The', 'DET'), ('potential', 'ADJ'), ('sales', 'NOUN'), ('are', 'VERB'), ('nearly', 'ADV'), ('$', '.'), ('9.3', 'ADJ'), ('million', 'NUM'), ('*U*', 'X'), (',', '.'), ('and', 'CONJ'), ('House', 'NOUN'), ('Majority', 'ADJ'), ('Whip', 'ADJ'), ('William', 'NOUN'), ('Gray', 'NOUN'), ('-LRB-', '.'), ('D.', 'NOUN'), (',', '.'), ('Pa', 'ADJ'), ('.', '.'), ('-RRB-', '.'), ('began', 'VERB'), ('the', 'DET'), ('bidding', 'NOUN'), ('this', 'DET'), ('year', 'NOUN'), ('by', 'ADP'), ('*-1', 'X'), ('proposing', 'VERB'), ('language', 'NOUN'), ('that', 'ADP'), ('the', 'DET'), ('quota', 'NOUN'), ('be', 'VERB'), ('allocated', 'VERB'), ('*-10', 'X'), ('to', 'PRT'), ('English-speaking', 'ADJ'), ('countries', 'NOUN'), ('of', 'ADP'), ('the', 'DET'), ('Caribbean', 'ADJ'), (',', '.'), ('such', 'ADJ'), ('as', 'ADP'), ('Jamaica', 'NOUN'), ('and', 'CONJ'), ('Barbados', 'ADJ'), ('.', '.'), ('The', 'DET'), ('percentage', 'NOUN'), ('change', 'NOUN'), ('is', 'VERB'), ('since', 'ADP'), ('year-end', 'NOUN'), ('.', '.')]\n"
     ]
    }
   ],
   "source": [
    "print(\"Time taken in seconds: \", difference)\n",
    "print(tagged_seq)\n",
    "#print(test_run_base)"
   ]
  },
  {
   "cell_type": "code",
   "execution_count": 45,
   "metadata": {},
   "outputs": [
    {
     "data": {
      "text/plain": [
       "0.9101123595505618"
      ]
     },
     "execution_count": 45,
     "metadata": {},
     "output_type": "execute_result"
    }
   ],
   "source": [
    "\n",
    "# accuracy\n",
    "check = [i for i, j in zip(tagged_seq, test_run_base) if i == j]\n",
    "accuracy_vanilla_viterbi = len(check)/len(tagged_seq)\n",
    "accuracy_vanilla_viterbi"
   ]
  },
  {
   "cell_type": "code",
   "execution_count": 46,
   "metadata": {},
   "outputs": [
    {
     "data": {
      "text/plain": [
       "[[('which', 'DET'), (('*T*-81', 'ADJ'), ('*T*-81', 'X'))],\n",
       " [('*', 'X'), (('upsetting', 'ADJ'), ('upsetting', 'VERB'))],\n",
       " [('its', 'PRON'), (('Caribbean', 'ADJ'), ('Caribbean', 'NOUN'))],\n",
       " [('Caribbean', 'NOUN'), (('Basin', 'ADJ'), ('Basin', 'NOUN'))],\n",
       " [('Basin', 'NOUN'), (('allies', 'ADJ'), ('allies', 'NOUN'))],\n",
       " [('apparently', 'ADV'), (('instructed', 'ADJ'), ('instructed', 'VERB'))],\n",
       " [('its', 'PRON'), (('lobbyist', 'ADJ'), ('lobbyist', 'NOUN'))],\n",
       " [('initially', 'ADV'), (('drafted', 'ADJ'), ('drafted', 'VERB'))],\n",
       " [('Mr.', 'NOUN'), (('Inouye', 'ADJ'), ('Inouye', 'NOUN'))],\n",
       " [('to', 'PRT'), (('insert', 'ADJ'), ('insert', 'VERB'))],\n",
       " [('$', '.'), (('9.3', 'ADJ'), ('9.3', 'NUM'))],\n",
       " [('House', 'NOUN'), (('Majority', 'ADJ'), ('Majority', 'NOUN'))],\n",
       " [('Majority', 'NOUN'), (('Whip', 'ADJ'), ('Whip', 'NOUN'))],\n",
       " [(',', '.'), (('Pa', 'ADJ'), ('Pa', 'NOUN'))],\n",
       " [('the', 'DET'), (('Caribbean', 'ADJ'), ('Caribbean', 'NOUN'))],\n",
       " [('and', 'CONJ'), (('Barbados', 'ADJ'), ('Barbados', 'NOUN'))]]"
      ]
     },
     "execution_count": 46,
     "metadata": {},
     "output_type": "execute_result"
    }
   ],
   "source": [
    "incorrect_tagged_vanilla_viterbi = [[test_run_base[i-1],j] for i, j in enumerate(zip(tagged_seq, test_run_base)) if j[0]!=j[1]]\n",
    "incorrect_tagged_vanilla_viterbi"
   ]
  },
  {
   "cell_type": "code",
   "execution_count": 49,
   "metadata": {},
   "outputs": [],
   "source": [
    "## Testing\n",
    "sentence_test = 'Google and Twitter made a deal in 2015 that gave Google access to Twitter\\'s firehose.'\n",
    "words = word_tokenize(sentence_test)\n",
    "\n",
    "start = time.time()\n",
    "tagged_seq = Viterbi(words)\n",
    "end = time.time()\n",
    "difference = end-start"
   ]
  },
  {
   "cell_type": "code",
   "execution_count": 50,
   "metadata": {},
   "outputs": [
    {
     "name": "stdout",
     "output_type": "stream",
     "text": [
      "[('Google', 'ADJ'), ('and', 'CONJ'), ('Twitter', 'ADJ'), ('made', 'VERB'), ('a', 'DET'), ('deal', 'NOUN'), ('in', 'ADP'), ('2015', 'ADJ'), ('that', 'ADP'), ('gave', 'VERB'), ('Google', 'ADJ'), ('access', 'NOUN'), ('to', 'PRT'), ('Twitter', 'ADJ'), (\"'s\", 'PRT'), ('firehose', 'ADJ'), ('.', '.')]\n",
      "2.9389004707336426\n"
     ]
    }
   ],
   "source": [
    "print(tagged_seq)\n",
    "print(difference)"
   ]
  },
  {
   "cell_type": "code",
   "execution_count": null,
   "metadata": {},
   "outputs": [],
   "source": []
  },
  {
   "cell_type": "code",
   "execution_count": null,
   "metadata": {},
   "outputs": [],
   "source": []
  },
  {
   "cell_type": "markdown",
   "metadata": {},
   "source": [
    "### Solve the problem of unknown words"
   ]
  },
  {
   "cell_type": "code",
   "execution_count": 51,
   "metadata": {},
   "outputs": [
    {
     "name": "stdout",
     "output_type": "stream",
     "text": [
      "0.9056754596322941\n"
     ]
    }
   ],
   "source": [
    "\n",
    "# Lexicon (or unigram tagger)\n",
    "unigram_tagger = nltk.UnigramTagger(train_set)\n",
    "accuracy_unigram_tagger = unigram_tagger.evaluate(test_set)\n",
    "print(accuracy_unigram_tagger)"
   ]
  },
  {
   "cell_type": "code",
   "execution_count": 52,
   "metadata": {},
   "outputs": [],
   "source": [
    "# specify patterns for tagging\n",
    "# example from the NLTK book\n",
    "patterns = [\n",
    "    (r'.*ing$', 'VBG'),              # gerund\n",
    "    (r'.*ed$', 'VBD'),               # past tense\n",
    "    (r'.*es$', 'VBZ'),               # 3rd singular present\n",
    "    (r'.*ould$', 'MD'),              # modals\n",
    "    (r'.*\\'s$', 'NN$'),              # possessive nouns\n",
    "    (r'.*s$', 'NNS'),                # plural nouns\n",
    "    (r'^-?[0-9]+(.[0-9]+)?$', 'CD'), # cardinal numbers\n",
    "    (r'.*', 'NN')                    # nouns\n",
    "]"
   ]
  },
  {
   "cell_type": "code",
   "execution_count": 53,
   "metadata": {},
   "outputs": [
    {
     "name": "stdout",
     "output_type": "stream",
     "text": [
      "0.9056754596322941\n"
     ]
    }
   ],
   "source": [
    "# rule based tagger\n",
    "rule_based_tagger = nltk.RegexpTagger(patterns)\n",
    "\n",
    "# lexicon backed up by the rule-based tagger\n",
    "lexicon_tagger = nltk.UnigramTagger(train_set, backoff=rule_based_tagger)\n",
    "\n",
    "accuracy_lexicon_tagger = lexicon_tagger.evaluate(test_set)\n",
    "print(accuracy_lexicon_tagger)"
   ]
  },
  {
   "cell_type": "markdown",
   "metadata": {},
   "source": [
    "Trigram tagger"
   ]
  },
  {
   "cell_type": "code",
   "execution_count": 54,
   "metadata": {},
   "outputs": [
    {
     "name": "stdout",
     "output_type": "stream",
     "text": [
      "0.9068745003996802\n"
     ]
    }
   ],
   "source": [
    "# Bigram and Trigram tagger\n",
    "bigram_tagger = nltk.BigramTagger(train_set,backoff=lexicon_tagger)\n",
    "bigram_tagger.evaluate(test_set)\n",
    "accuracy_bigram_tagger = bigram_tagger.evaluate(test_set)\n",
    "print(accuracy_bigram_tagger)"
   ]
  },
  {
   "cell_type": "code",
   "execution_count": 55,
   "metadata": {},
   "outputs": [
    {
     "name": "stdout",
     "output_type": "stream",
     "text": [
      "0.9074740207833732\n"
     ]
    }
   ],
   "source": [
    "\n",
    "trigram_tagger = nltk.TrigramTagger(train_set, backoff=bigram_tagger)\n",
    "trigram_tagger.evaluate(test_set)\n",
    "accuracy_trigram_tagger = trigram_tagger.evaluate(test_set)\n",
    "print(accuracy_trigram_tagger)"
   ]
  },
  {
   "cell_type": "markdown",
   "metadata": {},
   "source": [
    "Now to build this into viterbi, need to change the regex patterns to fit for the tags in our data (NOUN instead of NNS etc)"
   ]
  },
  {
   "cell_type": "code",
   "execution_count": 56,
   "metadata": {},
   "outputs": [
    {
     "name": "stdout",
     "output_type": "stream",
     "text": [
      "{'ADJ', 'X', 'ADP', 'PRON', 'DET', 'CONJ', '.', 'ADV', 'NOUN', 'VERB', 'PRT', 'NUM'}\n"
     ]
    }
   ],
   "source": [
    "print(T)"
   ]
  },
  {
   "cell_type": "code",
   "execution_count": 57,
   "metadata": {},
   "outputs": [],
   "source": [
    "def trigram_tagger(word,train_set = train_set):\n",
    "    patterns1 = [\n",
    "    (r'.*ing$', 'VERB'),              # gerund\n",
    "    (r'.*ed$', 'VERB'),               # past tense\n",
    "    (r'.*es$', 'VERB'),               # 3rd singular present\n",
    "    (r'.*ould$', 'X'),              # modals\n",
    "    (r'.*\\'s$', 'NOUN'),              # possessive nouns\n",
    "    (r'.*s$', 'NOUN'),                # plural nouns\n",
    "    (r'^-?[0-9]+(.[0-9]+)?$', 'NUM'), # cardinal numbers\n",
    "    (r'.*', 'NOUN')                    # nouns\n",
    "    ]\n",
    "    regex_based_tagger = nltk.RegexpTagger(patterns1)\n",
    "\n",
    "    # trigram backed up by the regex tagger\n",
    "    trigram_regex_tagger = nltk.TrigramTagger(train_set, backoff=regex_based_tagger)\n",
    "    return trigram_regex_tagger.tag_sents([[(word)]])"
   ]
  },
  {
   "cell_type": "code",
   "execution_count": 58,
   "metadata": {},
   "outputs": [],
   "source": [
    "# viterbi with handling for unknown words from regex tagger\n",
    "\n",
    "def Viterbi_modified(words, train_bag = train_tagged_words):\n",
    "    state = []\n",
    "    T = list(set([pair[1] for pair in train_bag]))\n",
    "    \n",
    "    for key, word in enumerate(words):\n",
    "        # unknown words from trigram taggr\n",
    "        if word not in tokens:\n",
    "            unk_word_tag=trigram_tagger(word)\n",
    "            for sent in unk_word_tag:\n",
    "                for tup in sent:\n",
    "                    state.append(tup[1])\n",
    "        # rest remains same            \n",
    "        else:            \n",
    "            p = [] \n",
    "            for tag in T:\n",
    "                if key == 0:\n",
    "                    transition_p = tags_df.loc['.', tag]\n",
    "                else:\n",
    "                    transition_p = tags_df.loc[state[-1], tag]\n",
    "                \n",
    "            # compute emission and state probabilities\n",
    "                emission_p = word_given_tag(words[key], tag)[0]/word_given_tag(words[key], tag)[1]\n",
    "                state_probability = emission_p * transition_p    \n",
    "                p.append(state_probability)\n",
    "            \n",
    "            pmax = max(p)\n",
    "            # getting state for which probability is maximum\n",
    "            state_max = T[p.index(pmax)] \n",
    "            state.append(state_max)\n",
    "            \n",
    "    return list(zip(words, state))"
   ]
  },
  {
   "cell_type": "code",
   "execution_count": 59,
   "metadata": {},
   "outputs": [],
   "source": [
    "start = time.time()\n",
    "tagged_seq = Viterbi_modified(test_tagged_words)\n",
    "end = time.time()\n",
    "difference = end-start"
   ]
  },
  {
   "cell_type": "markdown",
   "metadata": {},
   "source": [
    "#### Evaluating tagging accuracy"
   ]
  },
  {
   "cell_type": "code",
   "execution_count": 60,
   "metadata": {},
   "outputs": [
    {
     "data": {
      "text/plain": [
       "['As',\n",
       " 'a',\n",
       " 'part',\n",
       " 'of',\n",
       " 'overall',\n",
       " 'efforts',\n",
       " '*',\n",
       " 'to',\n",
       " 'reduce',\n",
       " 'spending',\n",
       " ',',\n",
       " 'Congress',\n",
       " 'cut',\n",
       " 'by',\n",
       " '$',\n",
       " '30',\n",
       " 'million',\n",
       " '*U*',\n",
       " 'the',\n",
       " 'Bush',\n",
       " 'administration',\n",
       " \"'s\",\n",
       " 'request',\n",
       " 'for',\n",
       " 'antitrust',\n",
       " 'enforcement',\n",
       " 'for',\n",
       " 'fiscal',\n",
       " '1990',\n",
       " ',',\n",
       " 'which',\n",
       " '*T*-81',\n",
       " 'began',\n",
       " 'Oct.',\n",
       " '1',\n",
       " '.',\n",
       " 'Meanwhile',\n",
       " ',',\n",
       " 'the',\n",
       " 'National',\n",
       " 'Association',\n",
       " 'of',\n",
       " 'Purchasing',\n",
       " 'Management',\n",
       " 'said',\n",
       " '0',\n",
       " 'its',\n",
       " 'latest',\n",
       " 'survey',\n",
       " 'indicated',\n",
       " 'that',\n",
       " 'the',\n",
       " 'manufacturing',\n",
       " 'economy',\n",
       " 'contracted',\n",
       " 'in',\n",
       " 'October',\n",
       " 'for',\n",
       " 'the',\n",
       " 'sixth',\n",
       " 'consecutive',\n",
       " 'month',\n",
       " '.',\n",
       " 'Jamaica',\n",
       " ',',\n",
       " 'wary',\n",
       " 'of',\n",
       " '*',\n",
       " 'upsetting',\n",
       " 'its',\n",
       " 'Caribbean',\n",
       " 'Basin',\n",
       " 'allies',\n",
       " ',',\n",
       " 'has',\n",
       " 'apparently',\n",
       " 'instructed',\n",
       " 'its',\n",
       " 'lobbyist',\n",
       " '*-2',\n",
       " 'to',\n",
       " 'abandon',\n",
       " 'the',\n",
       " 'provision',\n",
       " 'initially',\n",
       " 'drafted',\n",
       " '*',\n",
       " 'by',\n",
       " 'Mr.',\n",
       " 'Gray',\n",
       " ',',\n",
       " 'but',\n",
       " 'the',\n",
       " 'greater',\n",
       " 'question',\n",
       " 'is',\n",
       " 'whether',\n",
       " 'Mr.',\n",
       " 'Inouye',\n",
       " ',',\n",
       " 'who',\n",
       " '*T*-10',\n",
       " 'has',\n",
       " 'strong',\n",
       " 'ties',\n",
       " 'to',\n",
       " 'the',\n",
       " 'sugar',\n",
       " 'industry',\n",
       " ',',\n",
       " 'is',\n",
       " 'able',\n",
       " '*-3',\n",
       " 'to',\n",
       " 'insert',\n",
       " 'a',\n",
       " 'claim',\n",
       " 'by',\n",
       " 'the',\n",
       " 'Philippines',\n",
       " '.',\n",
       " 'The',\n",
       " 'potential',\n",
       " 'sales',\n",
       " 'are',\n",
       " 'nearly',\n",
       " '$',\n",
       " '9.3',\n",
       " 'million',\n",
       " '*U*',\n",
       " ',',\n",
       " 'and',\n",
       " 'House',\n",
       " 'Majority',\n",
       " 'Whip',\n",
       " 'William',\n",
       " 'Gray',\n",
       " '-LRB-',\n",
       " 'D.',\n",
       " ',',\n",
       " 'Pa',\n",
       " '.',\n",
       " '-RRB-',\n",
       " 'began',\n",
       " 'the',\n",
       " 'bidding',\n",
       " 'this',\n",
       " 'year',\n",
       " 'by',\n",
       " '*-1',\n",
       " 'proposing',\n",
       " 'language',\n",
       " 'that',\n",
       " 'the',\n",
       " 'quota',\n",
       " 'be',\n",
       " 'allocated',\n",
       " '*-10',\n",
       " 'to',\n",
       " 'English-speaking',\n",
       " 'countries',\n",
       " 'of',\n",
       " 'the',\n",
       " 'Caribbean',\n",
       " ',',\n",
       " 'such',\n",
       " 'as',\n",
       " 'Jamaica',\n",
       " 'and',\n",
       " 'Barbados',\n",
       " '.',\n",
       " 'The',\n",
       " 'percentage',\n",
       " 'change',\n",
       " 'is',\n",
       " 'since',\n",
       " 'year-end',\n",
       " '.']"
      ]
     },
     "execution_count": 60,
     "metadata": {},
     "output_type": "execute_result"
    }
   ],
   "source": [
    "test_run_base = [tup for sent in test_run for tup in sent]\n",
    "\n",
    "# list of untagged words\n",
    "test_tagged_words = [tup[0] for sent in test_run for tup in sent]\n",
    "test_tagged_words"
   ]
  },
  {
   "cell_type": "code",
   "execution_count": 61,
   "metadata": {},
   "outputs": [],
   "source": [
    "# tagging the test sentences\n",
    "start = time.time()\n",
    "tagged_seq_modified = Viterbi_modified(test_tagged_words)\n",
    "end = time.time()\n",
    "difference = end-start"
   ]
  },
  {
   "cell_type": "code",
   "execution_count": 62,
   "metadata": {},
   "outputs": [
    {
     "name": "stdout",
     "output_type": "stream",
     "text": [
      "Time taken in seconds:  53.710330963134766\n",
      "[('As', 'ADP'), ('a', 'DET'), ('part', 'NOUN'), ('of', 'ADP'), ('overall', 'ADJ'), ('efforts', 'NOUN'), ('*', 'X'), ('to', 'PRT'), ('reduce', 'VERB'), ('spending', 'NOUN'), (',', '.'), ('Congress', 'NOUN'), ('cut', 'VERB'), ('by', 'ADP'), ('$', '.'), ('30', 'NUM'), ('million', 'NUM'), ('*U*', 'X'), ('the', 'DET'), ('Bush', 'NOUN'), ('administration', 'NOUN'), (\"'s\", 'PRT'), ('request', 'NOUN'), ('for', 'ADP'), ('antitrust', 'ADJ'), ('enforcement', 'NOUN'), ('for', 'ADP'), ('fiscal', 'ADJ'), ('1990', 'NUM'), (',', '.'), ('which', 'DET'), ('*T*-81', 'NOUN'), ('began', 'VERB'), ('Oct.', 'NOUN'), ('1', 'NUM'), ('.', '.'), ('Meanwhile', 'ADV'), (',', '.'), ('the', 'DET'), ('National', 'NOUN'), ('Association', 'NOUN'), ('of', 'ADP'), ('Purchasing', 'NOUN'), ('Management', 'NOUN'), ('said', 'VERB'), ('0', 'X'), ('its', 'PRON'), ('latest', 'ADJ'), ('survey', 'NOUN'), ('indicated', 'VERB'), ('that', 'ADP'), ('the', 'DET'), ('manufacturing', 'NOUN'), ('economy', 'NOUN'), ('contracted', 'VERB'), ('in', 'ADP'), ('October', 'NOUN'), ('for', 'ADP'), ('the', 'DET'), ('sixth', 'ADJ'), ('consecutive', 'ADJ'), ('month', 'NOUN'), ('.', '.'), ('Jamaica', 'NOUN'), (',', '.'), ('wary', 'NOUN'), ('of', 'ADP'), ('*', 'X'), ('upsetting', 'VERB'), ('its', 'PRON'), ('Caribbean', 'NOUN'), ('Basin', 'NOUN'), ('allies', 'VERB'), (',', '.'), ('has', 'VERB'), ('apparently', 'ADV'), ('instructed', 'VERB'), ('its', 'PRON'), ('lobbyist', 'NOUN'), ('*-2', 'X'), ('to', 'PRT'), ('abandon', 'VERB'), ('the', 'DET'), ('provision', 'NOUN'), ('initially', 'ADV'), ('drafted', 'VERB'), ('*', 'X'), ('by', 'ADP'), ('Mr.', 'NOUN'), ('Gray', 'NOUN'), (',', '.'), ('but', 'CONJ'), ('the', 'DET'), ('greater', 'ADJ'), ('question', 'NOUN'), ('is', 'VERB'), ('whether', 'ADP'), ('Mr.', 'NOUN'), ('Inouye', 'NOUN'), (',', '.'), ('who', 'PRON'), ('*T*-10', 'X'), ('has', 'VERB'), ('strong', 'ADJ'), ('ties', 'NOUN'), ('to', 'PRT'), ('the', 'DET'), ('sugar', 'NOUN'), ('industry', 'NOUN'), (',', '.'), ('is', 'VERB'), ('able', 'ADJ'), ('*-3', 'X'), ('to', 'PRT'), ('insert', 'NOUN'), ('a', 'DET'), ('claim', 'NOUN'), ('by', 'ADP'), ('the', 'DET'), ('Philippines', 'NOUN'), ('.', '.'), ('The', 'DET'), ('potential', 'ADJ'), ('sales', 'NOUN'), ('are', 'VERB'), ('nearly', 'ADV'), ('$', '.'), ('9.3', 'NUM'), ('million', 'NUM'), ('*U*', 'X'), (',', '.'), ('and', 'CONJ'), ('House', 'NOUN'), ('Majority', 'NOUN'), ('Whip', 'NOUN'), ('William', 'NOUN'), ('Gray', 'NOUN'), ('-LRB-', '.'), ('D.', 'NOUN'), (',', '.'), ('Pa', 'NOUN'), ('.', '.'), ('-RRB-', '.'), ('began', 'VERB'), ('the', 'DET'), ('bidding', 'NOUN'), ('this', 'DET'), ('year', 'NOUN'), ('by', 'ADP'), ('*-1', 'X'), ('proposing', 'VERB'), ('language', 'NOUN'), ('that', 'ADP'), ('the', 'DET'), ('quota', 'NOUN'), ('be', 'VERB'), ('allocated', 'VERB'), ('*-10', 'X'), ('to', 'PRT'), ('English-speaking', 'VERB'), ('countries', 'NOUN'), ('of', 'ADP'), ('the', 'DET'), ('Caribbean', 'NOUN'), (',', '.'), ('such', 'ADJ'), ('as', 'ADP'), ('Jamaica', 'NOUN'), ('and', 'CONJ'), ('Barbados', 'NOUN'), ('.', '.'), ('The', 'DET'), ('percentage', 'NOUN'), ('change', 'NOUN'), ('is', 'VERB'), ('since', 'ADP'), ('year-end', 'NOUN'), ('.', '.')]\n"
     ]
    }
   ],
   "source": [
    "print(\"Time taken in seconds: \", difference)\n",
    "print(tagged_seq_modified)\n",
    "#print(test_run_base)"
   ]
  },
  {
   "cell_type": "code",
   "execution_count": 63,
   "metadata": {},
   "outputs": [
    {
     "data": {
      "text/plain": [
       "0.9719101123595506"
      ]
     },
     "execution_count": 63,
     "metadata": {},
     "output_type": "execute_result"
    }
   ],
   "source": [
    "\n",
    "# accuracy\n",
    "check1 = [i for i, j in zip(tagged_seq_modified, test_run_base) if i == j]\n",
    "accuracy_viterbi_modified = len(check1)/len(tagged_seq_modified)\n",
    "accuracy_viterbi_modified"
   ]
  },
  {
   "cell_type": "code",
   "execution_count": null,
   "metadata": {},
   "outputs": [],
   "source": []
  },
  {
   "cell_type": "markdown",
   "metadata": {},
   "source": [
    "### Compare the tagging accuracies of the modifications with the vanilla Viterbi algorithm"
   ]
  },
  {
   "cell_type": "code",
   "execution_count": 64,
   "metadata": {},
   "outputs": [
    {
     "name": "stdout",
     "output_type": "stream",
     "text": [
      "0.9101123595505618\n"
     ]
    }
   ],
   "source": [
    "print(accuracy_vanilla_viterbi)"
   ]
  },
  {
   "cell_type": "code",
   "execution_count": 65,
   "metadata": {},
   "outputs": [
    {
     "name": "stdout",
     "output_type": "stream",
     "text": [
      "0.9056754596322941\n"
     ]
    }
   ],
   "source": [
    "print(accuracy_unigram_tagger)"
   ]
  },
  {
   "cell_type": "code",
   "execution_count": 66,
   "metadata": {},
   "outputs": [
    {
     "name": "stdout",
     "output_type": "stream",
     "text": [
      "0.9068745003996802\n"
     ]
    }
   ],
   "source": [
    "print(accuracy_bigram_tagger)"
   ]
  },
  {
   "cell_type": "code",
   "execution_count": 67,
   "metadata": {},
   "outputs": [
    {
     "name": "stdout",
     "output_type": "stream",
     "text": [
      "0.9056754596322941\n"
     ]
    }
   ],
   "source": [
    "print(accuracy_lexicon_tagger)"
   ]
  },
  {
   "cell_type": "code",
   "execution_count": 68,
   "metadata": {},
   "outputs": [
    {
     "name": "stdout",
     "output_type": "stream",
     "text": [
      "0.9719101123595506\n"
     ]
    }
   ],
   "source": [
    "print(accuracy_viterbi_modified)"
   ]
  },
  {
   "cell_type": "code",
   "execution_count": null,
   "metadata": {},
   "outputs": [],
   "source": []
  },
  {
   "cell_type": "markdown",
   "metadata": {},
   "source": [
    "### List down cases which were incorrectly tagged by original POS tagger and got corrected by your modifications"
   ]
  },
  {
   "cell_type": "code",
   "execution_count": 69,
   "metadata": {},
   "outputs": [
    {
     "name": "stdout",
     "output_type": "stream",
     "text": [
      "[('Android', 'ADJ'), ('has', 'VERB'), ('been', 'VERB'), ('the', 'DET'), ('best-selling', 'ADJ'), ('OS', 'ADJ'), ('worldwide', 'ADJ'), ('on', 'ADP'), ('smartphones', 'ADJ'), ('since', 'ADP'), ('2011', 'ADJ'), ('and', 'CONJ'), ('on', 'ADP'), ('tablets', 'NOUN'), ('since', 'ADP'), ('2013', 'ADJ'), ('.', '.')]\n"
     ]
    }
   ],
   "source": [
    "## Testing\n",
    "sentence_test1 = 'Android has been the best-selling OS worldwide on smartphones since 2011 and on tablets since 2013.'\n",
    "words = word_tokenize(sentence_test1)\n",
    "tagged_seq = Viterbi(words)\n",
    "print(tagged_seq)"
   ]
  },
  {
   "cell_type": "code",
   "execution_count": 70,
   "metadata": {},
   "outputs": [
    {
     "name": "stdout",
     "output_type": "stream",
     "text": [
      "[('Android', 'NOUN'), ('has', 'VERB'), ('been', 'VERB'), ('the', 'DET'), ('best-selling', 'ADJ'), ('OS', 'NOUN'), ('worldwide', 'NOUN'), ('on', 'ADP'), ('smartphones', 'VERB'), ('since', 'ADP'), ('2011', 'NUM'), ('and', 'CONJ'), ('on', 'ADP'), ('tablets', 'NOUN'), ('since', 'ADP'), ('2013', 'NUM'), ('.', '.')]\n"
     ]
    }
   ],
   "source": [
    "tagged_seq_modified = Viterbi_modified(words)\n",
    "print(tagged_seq_modified)"
   ]
  },
  {
   "cell_type": "code",
   "execution_count": 71,
   "metadata": {},
   "outputs": [
    {
     "name": "stdout",
     "output_type": "stream",
     "text": [
      "[('Google', 'ADJ'), ('and', 'CONJ'), ('Twitter', 'ADJ'), ('made', 'VERB'), ('a', 'DET'), ('deal', 'NOUN'), ('in', 'ADP'), ('2015', 'ADJ'), ('that', 'ADP'), ('gave', 'VERB'), ('Google', 'ADJ'), ('access', 'NOUN'), ('to', 'PRT'), ('Twitter', 'ADJ'), (\"'s\", 'PRT'), ('firehose', 'ADJ'), ('.', '.')]\n"
     ]
    }
   ],
   "source": [
    "## Testing\n",
    "sentence_test2 = 'Google and Twitter made a deal in 2015 that gave Google access to Twitter\\'s firehose.'\n",
    "words = word_tokenize(sentence_test2)\n",
    "tagged_seq = Viterbi(words)\n",
    "print(tagged_seq)"
   ]
  },
  {
   "cell_type": "code",
   "execution_count": 72,
   "metadata": {},
   "outputs": [
    {
     "name": "stdout",
     "output_type": "stream",
     "text": [
      "[('Google', 'NOUN'), ('and', 'CONJ'), ('Twitter', 'NOUN'), ('made', 'VERB'), ('a', 'DET'), ('deal', 'NOUN'), ('in', 'ADP'), ('2015', 'NUM'), ('that', 'ADP'), ('gave', 'VERB'), ('Google', 'NOUN'), ('access', 'NOUN'), ('to', 'PRT'), ('Twitter', 'NOUN'), (\"'s\", 'PRT'), ('firehose', 'NOUN'), ('.', '.')]\n"
     ]
    }
   ],
   "source": [
    "tagged_seq_modified = Viterbi_modified(words)\n",
    "print(tagged_seq_modified)"
   ]
  },
  {
   "cell_type": "code",
   "execution_count": 73,
   "metadata": {},
   "outputs": [
    {
     "name": "stdout",
     "output_type": "stream",
     "text": [
      "[('I', 'PRON'), ('Instagrammed', 'ADJ'), ('a', 'DET'), ('Facebook', 'ADJ'), ('post', 'NOUN'), ('taken', 'VERB'), ('from', 'ADP'), ('Android', 'ADJ'), ('smartphone', 'ADJ'), ('and', 'CONJ'), ('uploaded', 'ADJ'), ('results', 'NOUN'), ('to', 'PRT'), ('Youtube', 'ADJ'), ('.', '.')]\n"
     ]
    }
   ],
   "source": [
    "sentence_test3='I Instagrammed a Facebook post taken from Android smartphone and uploaded results to Youtube.'\n",
    "words = word_tokenize(sentence_test3)\n",
    "tagged_seq = Viterbi(words)\n",
    "print(tagged_seq)"
   ]
  },
  {
   "cell_type": "code",
   "execution_count": 74,
   "metadata": {},
   "outputs": [
    {
     "name": "stdout",
     "output_type": "stream",
     "text": [
      "[('I', 'PRON'), ('Instagrammed', 'VERB'), ('a', 'DET'), ('Facebook', 'NOUN'), ('post', 'NOUN'), ('taken', 'VERB'), ('from', 'ADP'), ('Android', 'NOUN'), ('smartphone', 'NOUN'), ('and', 'CONJ'), ('uploaded', 'VERB'), ('results', 'NOUN'), ('to', 'PRT'), ('Youtube', 'NOUN'), ('.', '.')]\n"
     ]
    }
   ],
   "source": [
    "tagged_seq_modified = Viterbi_modified(words)\n",
    "print(tagged_seq_modified)"
   ]
  },
  {
   "cell_type": "code",
   "execution_count": 75,
   "metadata": {},
   "outputs": [
    {
     "name": "stdout",
     "output_type": "stream",
     "text": [
      "[('Android', 'ADJ'), ('is', 'VERB'), ('a', 'DET'), ('mobile', 'ADJ'), ('operating', 'NOUN'), ('system', 'NOUN'), ('developed', 'VERB'), ('by', 'ADP'), ('Google', 'ADJ'), ('.', '.')]\n"
     ]
    }
   ],
   "source": [
    "sentence_test4='Android is a mobile operating system developed by Google.'\n",
    "words = word_tokenize(sentence_test4)\n",
    "tagged_seq = Viterbi(words)\n",
    "print(tagged_seq)"
   ]
  },
  {
   "cell_type": "code",
   "execution_count": 76,
   "metadata": {},
   "outputs": [
    {
     "name": "stdout",
     "output_type": "stream",
     "text": [
      "[('Android', 'NOUN'), ('is', 'VERB'), ('a', 'DET'), ('mobile', 'ADJ'), ('operating', 'NOUN'), ('system', 'NOUN'), ('developed', 'VERB'), ('by', 'ADP'), ('Google', 'NOUN'), ('.', '.')]\n"
     ]
    }
   ],
   "source": [
    "tagged_seq_modified = Viterbi_modified(words)\n",
    "print(tagged_seq_modified)"
   ]
  },
  {
   "cell_type": "code",
   "execution_count": 77,
   "metadata": {},
   "outputs": [
    {
     "name": "stdout",
     "output_type": "stream",
     "text": [
      "[('Twitter', 'ADJ'), ('is', 'VERB'), ('an', 'DET'), ('online', 'ADJ'), ('news', 'NOUN'), ('and', 'CONJ'), ('social', 'ADJ'), ('networking', 'NOUN'), ('service', 'NOUN'), ('on', 'ADP'), ('which', 'DET'), ('users', 'NOUN'), ('post', 'NOUN'), ('and', 'CONJ'), ('interact', 'ADJ'), ('with', 'ADP'), ('messages', 'ADJ'), ('known', 'VERB'), ('as', 'ADP'), ('tweets', 'ADJ'), ('.', '.')]\n"
     ]
    }
   ],
   "source": [
    "sentence_test5='Twitter is an online news and social networking service on which users post and interact with messages known as tweets.'\n",
    "words = word_tokenize(sentence_test5)\n",
    "tagged_seq = Viterbi(words)\n",
    "print(tagged_seq)"
   ]
  },
  {
   "cell_type": "code",
   "execution_count": 78,
   "metadata": {},
   "outputs": [
    {
     "name": "stdout",
     "output_type": "stream",
     "text": [
      "[('Twitter', 'NOUN'), ('is', 'VERB'), ('an', 'DET'), ('online', 'NOUN'), ('news', 'NOUN'), ('and', 'CONJ'), ('social', 'ADJ'), ('networking', 'NOUN'), ('service', 'NOUN'), ('on', 'ADP'), ('which', 'DET'), ('users', 'NOUN'), ('post', 'NOUN'), ('and', 'CONJ'), ('interact', 'NOUN'), ('with', 'ADP'), ('messages', 'VERB'), ('known', 'VERB'), ('as', 'ADP'), ('tweets', 'NOUN'), ('.', '.')]\n"
     ]
    }
   ],
   "source": [
    "tagged_seq_modified = Viterbi_modified(words)\n",
    "print(tagged_seq_modified)"
   ]
  },
  {
   "cell_type": "code",
   "execution_count": null,
   "metadata": {},
   "outputs": [],
   "source": [
    "We see the new words - Youtube, Facebook,smartphone going from ADJ to NOUN. We alse see the verb of Instagrammed,uploaded getting recognised correctly"
   ]
  },
  {
   "cell_type": "code",
   "execution_count": null,
   "metadata": {},
   "outputs": [],
   "source": []
  },
  {
   "cell_type": "code",
   "execution_count": null,
   "metadata": {},
   "outputs": [],
   "source": []
  }
 ],
 "metadata": {
  "kernelspec": {
   "display_name": "Python 3",
   "language": "python",
   "name": "python3"
  },
  "language_info": {
   "codemirror_mode": {
    "name": "ipython",
    "version": 3
   },
   "file_extension": ".py",
   "mimetype": "text/x-python",
   "name": "python",
   "nbconvert_exporter": "python",
   "pygments_lexer": "ipython3",
   "version": "3.8.5"
  }
 },
 "nbformat": 4,
 "nbformat_minor": 2
}
